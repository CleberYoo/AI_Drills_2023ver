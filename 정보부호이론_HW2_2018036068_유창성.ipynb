{
 "cells": [
  {
   "cell_type": "markdown",
   "id": "c12be598",
   "metadata": {},
   "source": [
    "# 2018036068 유창성"
   ]
  },
  {
   "cell_type": "code",
   "execution_count": 1,
   "id": "9943841b",
   "metadata": {},
   "outputs": [],
   "source": [
    "import numpy as np"
   ]
  },
  {
   "cell_type": "markdown",
   "id": "4a2cfdbe",
   "metadata": {},
   "source": [
    "#### q : number of symbols\n",
    "#### n : length of codeword\n",
    "#### k : length of information\n",
    "#### M : $ q^k $ / size of block code"
   ]
  },
  {
   "cell_type": "code",
   "execution_count": 2,
   "id": "8ad05766",
   "metadata": {},
   "outputs": [
    {
     "name": "stdout",
     "output_type": "stream",
     "text": [
      "q : [0 1] \t\t(←중복을 제거하여 symbol의 종류를 알아낼 수 있다)\n",
      "\n",
      "n : 7 \t\t(←codeword의 길이를 알아낼 수 있다.)\n",
      "\n",
      "k : 3 \t\t(←information의 길이를 알아낼 수 있다.)\n",
      "\n",
      "M : 8 \t\t (←블록코드의 사이즈를 알아낼 수 있다)\n",
      "\n"
     ]
    }
   ],
   "source": [
    "codeword_1 = np.array([0,1,0,1,0,0,0])\n",
    "information_1 = np.array([1,1,0])\n",
    "print('q :', np.unique(codeword_1),'\\t\\t(←중복을 제거하여 symbol의 종류를 알아낼 수 있다)', end='\\n'*2)\n",
    "\n",
    "print('n :', len(codeword_1), '\\t\\t(←codeword의 길이를 알아낼 수 있다.)', end='\\n'*2)\n",
    "\n",
    "print('k :', len(information_1), '\\t\\t(←information의 길이를 알아낼 수 있다.)', end='\\n'*2)\n",
    "\n",
    "print('M :', len(np.unique(codeword_1))**len(information_1),\n",
    "                                          '\\t\\t (←블록코드의 사이즈를 알아낼 수 있다)', end='\\n'*2)"
   ]
  },
  {
   "cell_type": "markdown",
   "id": "0e86d359",
   "metadata": {},
   "source": [
    "### $ c=i·G $\n",
    "#### c : codeword (1, n)\n",
    "#### i : information (1, k)\n",
    "#### G : generator matrix (k, n)"
   ]
  },
  {
   "cell_type": "markdown",
   "id": "ddc17e05",
   "metadata": {},
   "source": [
    "### $ G = [I|P] $\n",
    "#### I : identity matrix (k×k)\n",
    "#### P : coefficient matrix (k×(n-k))"
   ]
  },
  {
   "cell_type": "code",
   "execution_count": 89,
   "id": "116f0e93",
   "metadata": {},
   "outputs": [
    {
     "name": "stdout",
     "output_type": "stream",
     "text": [
      "I :\n",
      "[[1. 0. 0. 0.]\n",
      " [0. 1. 0. 0.]\n",
      " [0. 0. 1. 0.]\n",
      " [0. 0. 0. 1.]]\n",
      "P :\n",
      "[[1 1 1]\n",
      " [1 0 1]\n",
      " [1 1 0]\n",
      " [0 1 1]]\n",
      " G :\n",
      "[[1. 0. 0. 0. 1. 1. 1.]\n",
      " [0. 1. 0. 0. 1. 0. 1.]\n",
      " [0. 0. 1. 0. 1. 1. 0.]\n",
      " [0. 0. 0. 1. 0. 1. 1.]]\n"
     ]
    }
   ],
   "source": [
    "identity_matrix_1 = np.identity(4)\n",
    "\n",
    "coeffiecient_matrix_1 = np.array([[1, 1, 1],\n",
    "                                [1, 0, 1],\n",
    "                                [1, 1, 0],\n",
    "                                [0, 1, 1]])\n",
    "generator_matrix_1 = np.concatenate((identity_matrix_1, coeffiecient_matrix_1), axis=1)\n",
    "\n",
    "print('I :',identity_matrix_1, 'P :', coeffiecient_matrix_1, ' G :', generator_matrix_1, sep='\\n')"
   ]
  },
  {
   "cell_type": "markdown",
   "id": "0bec3e54",
   "metadata": {},
   "source": [
    "### $ c·H^T = 0 $\n",
    "### $ c=i·G $\n",
    "### $ H = [P^T|I] $\n",
    "### $ H^T = [\\frac{P}{I_{n-k}}] $\n",
    "### $ c·H^T = i·G·H^T = 0$\n",
    "### $ ∴ i·G·H^T = i[I|P][\\frac{P}{I_{n-k}}] = I·P + P·I = 0 $\n",
    "#### c : codeword\n",
    "#### H : parity check matrix\n"
   ]
  },
  {
   "cell_type": "code",
   "execution_count": 22,
   "id": "9541395b",
   "metadata": {},
   "outputs": [
    {
     "name": "stdout",
     "output_type": "stream",
     "text": [
      "단위행렬 I :\n",
      " [[1 0 0]\n",
      " [0 1 0]\n",
      " [0 0 1]]\n",
      "\n",
      "P 전치행렬 :\n",
      " [[1 1 1]\n",
      " [1 0 1]\n",
      " [1 1 0]\n",
      " [0 1 1]]\n",
      "\n",
      "P : :\n",
      " [[1 1 1]\n",
      " [1 0 1]\n",
      " [1 1 0]\n",
      " [0 1 1]]\n"
     ]
    }
   ],
   "source": [
    "#codeword_2 = np.array([])\n",
    "\n",
    "parity_check_matrix_1 = np.array([[1,1,1,0,1,0,0],\n",
    "                                  [1,0,1,1,0,1,0],\n",
    "                                  [1,1,0,1,0,0,1]])\n",
    "\n",
    "identity_matrix_2 = parity_check_matrix_1[: , 4: ]\n",
    "print('단위행렬 I :\\n', identity_matrix_2, end='\\n\\n')\n",
    "\n",
    "coeffiecient_matrix_2_transpose = parity_check_matrix_1[: , :4]\n",
    "print('P 전치행렬 :\\n', coeffiecient_matrix_2, end='\\n\\n')\n",
    "coeffiecient_matrix_2 = parity_check_matrix_1[0:3 , 0:4].T\n",
    "                                    # ↑  .T는 넘파이 라이브러리에서 제공하는 전치행렬 메소드다.\n",
    "print('P : :\\n', coeffiecient_matrix_2)"
   ]
  },
  {
   "cell_type": "markdown",
   "id": "0b564b84",
   "metadata": {},
   "source": [
    "#### ↓Solving Hamming weight $ d_W $"
   ]
  },
  {
   "cell_type": "code",
   "execution_count": 72,
   "id": "b8f00dfa",
   "metadata": {},
   "outputs": [
    {
     "name": "stdout",
     "output_type": "stream",
     "text": [
      "codeword's hamming weight : 1\n",
      "\n",
      "\n",
      "codeword[0]'s hamming weight : 0\n",
      "codeword[1]'s hamming weight : 1\n",
      "codeword[2]'s hamming weight : 3\n"
     ]
    }
   ],
   "source": [
    "code_ex1 = np.array([0,0,0,1,0])\n",
    "print('codeword\\'s hamming weight :', np.count_nonzero(code_ex1), end='\\n'*3)\n",
    "\n",
    "\n",
    "code_ex2 = np.array([[0,0,0,0,0],\n",
    "                     [0,0,0,0,1],\n",
    "                     [0,1,1,1,0]])\n",
    "for i in range(3):\n",
    "    print('codeword[{}]\\'s hamming weight :'.format(i), np.count_nonzero(code_ex2[i]))"
   ]
  },
  {
   "cell_type": "markdown",
   "id": "d0760556",
   "metadata": {},
   "source": [
    "#### ↓ Solving Hamming distance $ d_H $"
   ]
  },
  {
   "cell_type": "code",
   "execution_count": 28,
   "id": "3d939ecc",
   "metadata": {},
   "outputs": [
    {
     "name": "stdout",
     "output_type": "stream",
     "text": [
      "hamming distance between a[0] and b[0] : 2\n",
      "hamming distance between a[1] and b[1] : 4\n"
     ]
    }
   ],
   "source": [
    "code_ex3 = np.array([[1,0,1,1],\n",
    "              [0,0,0,0]])\n",
    "code_ex4 = np.array([[0,1,1,1],\n",
    "              [1,1,1,1]])\n",
    "for i in range(2):\n",
    "    print('hamming distance between a[{}] and b[{}] :'.format(i, i),\n",
    "                              np.count_nonzero(code_ex3[i] != code_ex4[i]))"
   ]
  },
  {
   "cell_type": "markdown",
   "id": "688a5a63",
   "metadata": {},
   "source": [
    "# ☆☆☆☆☆여기까지가 개념정리☆☆☆☆☆\n",
    "# ↓ 본격적인 syndrome decoding"
   ]
  },
  {
   "cell_type": "markdown",
   "id": "babd4b15",
   "metadata": {},
   "source": [
    "#### Write a python code for decoding (7, 4) Block code\n",
    "#### $ n = 7 $ and $ k = 4$"
   ]
  },
  {
   "cell_type": "markdown",
   "id": "d43239ab",
   "metadata": {},
   "source": [
    "##### ↓넘파이 라이브러리 선언"
   ]
  },
  {
   "cell_type": "code",
   "execution_count": 31,
   "id": "3baf9bb6",
   "metadata": {},
   "outputs": [],
   "source": [
    "import numpy as np"
   ]
  },
  {
   "cell_type": "markdown",
   "id": "1be0248a",
   "metadata": {},
   "source": [
    "#### $G$ = generator matrix\n",
    "### $ G = [I|P] $\n",
    "#### size of $ G = (4, 7) $\n",
    "##### ↓Define the generator matrix"
   ]
  },
  {
   "cell_type": "code",
   "execution_count": 76,
   "id": "0b94a828",
   "metadata": {},
   "outputs": [
    {
     "name": "stdout",
     "output_type": "stream",
     "text": [
      "generator matrix :\n",
      "\n",
      "[[1 0 0 0 1 1 1]\n",
      " [0 1 0 0 1 0 1]\n",
      " [0 0 1 0 1 1 0]\n",
      " [0 0 0 1 0 1 1]]\n"
     ]
    }
   ],
   "source": [
    "generator_matrix = np.array([[1,0,0,0,1,1,1],\n",
    "                             [0,1,0,0,1,0,1],\n",
    "                             [0,0,1,0,1,1,0],\n",
    "                             [0,0,0,1,0,1,1]])\n",
    "print('generator matrix :', generator_matrix, sep='\\n'*2)"
   ]
  },
  {
   "cell_type": "markdown",
   "id": "15fc664b",
   "metadata": {},
   "source": [
    "#### $ I $ = identity matrix\n",
    "#### size of $ I = (k,k) = (4,4) $\n",
    "##### ↓ $G$ 에서 $I$ 추출하기"
   ]
  },
  {
   "cell_type": "code",
   "execution_count": 77,
   "id": "025c4366",
   "metadata": {},
   "outputs": [
    {
     "name": "stdout",
     "output_type": "stream",
     "text": [
      "identity matrix :\n",
      "\n",
      "[[1 0 0 0]\n",
      " [0 1 0 0]\n",
      " [0 0 1 0]\n",
      " [0 0 0 1]]\n"
     ]
    }
   ],
   "source": [
    "identity_matrix = generator_matrix[ : , :4]\n",
    "print('identity matrix :', identity_matrix, sep='\\n'*2)"
   ]
  },
  {
   "cell_type": "markdown",
   "id": "01feffcd",
   "metadata": {},
   "source": [
    "#### $P$ = coefficient matrix\n",
    "### size of $ P = (k,(n-k)) = (4,3) $ \n",
    "##### ↓ $G$ 에서 $P$ 추출하기"
   ]
  },
  {
   "cell_type": "code",
   "execution_count": 78,
   "id": "497ed6a2",
   "metadata": {},
   "outputs": [
    {
     "name": "stdout",
     "output_type": "stream",
     "text": [
      "coefficient matrix :\n",
      "\n",
      "[[1 1 1]\n",
      " [1 0 1]\n",
      " [1 1 0]\n",
      " [0 1 1]]\n"
     ]
    }
   ],
   "source": [
    "coeffiecient_matrix = generator_matrix[ : , 4:]\n",
    "print('coefficient matrix :', coeffiecient_matrix, sep='\\n'*2)"
   ]
  },
  {
   "cell_type": "markdown",
   "id": "716fc460",
   "metadata": {},
   "source": [
    "#### $H$ = parity check matrix\n",
    "### $H = [P^T|I_{n-k}]$\n",
    "##### ↓ Define the parity-check matrix"
   ]
  },
  {
   "cell_type": "markdown",
   "id": "8a68801b",
   "metadata": {},
   "source": [
    "##### At first, define the $ P^T $\n",
    "### size of $ P^T = ((n-k),k) = (3,4) $\n",
    "##### ↓ Define the $ P^T $"
   ]
  },
  {
   "cell_type": "code",
   "execution_count": 79,
   "id": "6775f9c9",
   "metadata": {},
   "outputs": [
    {
     "name": "stdout",
     "output_type": "stream",
     "text": [
      "transpose of coefficient matrix :\n",
      "\n",
      "[[1 1 1 0]\n",
      " [1 0 1 1]\n",
      " [1 1 0 1]]\n"
     ]
    }
   ],
   "source": [
    "coeffiecient_matrix_transposed = coeffiecient_matrix.T\n",
    "print('transpose of coefficient matrix :', coeffiecient_matrix_transposed, sep='\\n'*2)\n"
   ]
  },
  {
   "cell_type": "markdown",
   "id": "05ac25cd",
   "metadata": {},
   "source": [
    "##### Then, define the $ I_{n-k} $\n",
    "#### size of $ I_{n-k} = ((n-k),(n-k)) = (3,3) $\n",
    "##### ↓ define the $ I_{n-k} $"
   ]
  },
  {
   "cell_type": "code",
   "execution_count": 80,
   "id": "6494ed1f",
   "metadata": {},
   "outputs": [
    {
     "name": "stdout",
     "output_type": "stream",
     "text": [
      "scaled identity matrix :\n",
      "\n",
      "[[1 0 0]\n",
      " [0 1 0]\n",
      " [0 0 1]]\n"
     ]
    }
   ],
   "source": [
    "identity_matrix_scaled_____n_minus_k = identity_matrix[:3 , :3]\n",
    "print('scaled identity matrix :', identity_matrix_scaled_____n_minus_k, sep='\\n'*2)"
   ]
  },
  {
   "cell_type": "markdown",
   "id": "2a3423bf",
   "metadata": {},
   "source": [
    "##### Finally, we can find the $ H $"
   ]
  },
  {
   "cell_type": "code",
   "execution_count": 81,
   "id": "0e30002e",
   "metadata": {},
   "outputs": [
    {
     "name": "stdout",
     "output_type": "stream",
     "text": [
      "parity check matrix :\n",
      "\n",
      "[[1 1 1 0 1 0 0]\n",
      " [1 0 1 1 0 1 0]\n",
      " [1 1 0 1 0 0 1]]\n"
     ]
    }
   ],
   "source": [
    "parity_check_matrix = np.concatenate((coeffiecient_matrix_transposed, identity_matrix_scaled_____n_minus_k),\n",
    "                                                                                            axis=1)\n",
    "print('parity check matrix :', parity_check_matrix, sep='\\n'*2)"
   ]
  },
  {
   "cell_type": "markdown",
   "id": "0b285060",
   "metadata": {},
   "source": [
    "#### $H^T$ = transpose of parity check matrix\n",
    "### $ H^T = [\\frac{P}{I_{n-k}}] $\n",
    "##### ↓define the $ H^T $"
   ]
  },
  {
   "cell_type": "code",
   "execution_count": 82,
   "id": "dcd35c32",
   "metadata": {},
   "outputs": [
    {
     "name": "stdout",
     "output_type": "stream",
     "text": [
      "[[1 1 1]\n",
      " [1 0 1]\n",
      " [1 1 0]\n",
      " [0 1 1]\n",
      " [1 0 0]\n",
      " [0 1 0]\n",
      " [0 0 1]]\n"
     ]
    }
   ],
   "source": [
    "parity_check_matrix_transposed = np.concatenate((coeffiecient_matrix, identity_matrix_scaled_____n_minus_k),\n",
    "                                                                                            axis=0)\n",
    "# parity_check_matrix_transposed = parity_check_matrix.T   // 동일한 방법\n",
    "print(parity_check_matrix_transposed)"
   ]
  },
  {
   "cell_type": "markdown",
   "id": "89700e8a",
   "metadata": {},
   "source": [
    "#### ↓Define the received codeword"
   ]
  },
  {
   "cell_type": "code",
   "execution_count": 95,
   "id": "51134fe3",
   "metadata": {},
   "outputs": [
    {
     "name": "stdout",
     "output_type": "stream",
     "text": [
      "[1 0 0 0 1 0 1]\n"
     ]
    }
   ],
   "source": [
    "received_codeword = np.array([1,0,0,0,1,0,1])\n",
    "print(received_codeword)"
   ]
  },
  {
   "cell_type": "markdown",
   "id": "516f64dc",
   "metadata": {},
   "source": [
    "#### s = syndrome of received codeword\n",
    "### $ s = rH^T $\n",
    "##### ↓ Calculate the syndrome"
   ]
  },
  {
   "cell_type": "code",
   "execution_count": 96,
   "id": "240f2990",
   "metadata": {},
   "outputs": [
    {
     "name": "stdout",
     "output_type": "stream",
     "text": [
      "syndrome of received code : [0 1 0]\n"
     ]
    }
   ],
   "source": [
    "syndrome = np.dot(parity_check_matrix, received_codeword) % 2\n",
    "print('syndrome of received code :', syndrome)"
   ]
  },
  {
   "cell_type": "markdown",
   "id": "d8a995d2",
   "metadata": {},
   "source": [
    "##### ↑ syndrome이 [0 0 0]을 뜻하면 error가 발견되지 않은 올바른 코드워드를 수신했다는 것이고\n",
    "##### [0 1 0]이면 parity check matrix H의 6열과 같은 것으로 보아 \n",
    "##### 6번째 비트가 잘못 수신되었다는 것을 짐작할 수 있다."
   ]
  },
  {
   "cell_type": "markdown",
   "id": "6f7a15bc",
   "metadata": {},
   "source": [
    "##### ↓Initialize the error vector to all zeros"
   ]
  },
  {
   "cell_type": "code",
   "execution_count": 85,
   "id": "80c9dfc1",
   "metadata": {},
   "outputs": [],
   "source": [
    "e = np.array([0,0,0,0,0,0,0])"
   ]
  },
  {
   "cell_type": "markdown",
   "id": "b3e0f45f",
   "metadata": {},
   "source": [
    "##### Check if the syndrome is non-zero"
   ]
  },
  {
   "cell_type": "code",
   "execution_count": 88,
   "id": "88aa7681",
   "metadata": {},
   "outputs": [
    {
     "name": "stdout",
     "output_type": "stream",
     "text": [
      "[1 0 0 0 1 1 1]\n"
     ]
    }
   ],
   "source": [
    "if not np.array_equal(syndrome, [0,0,0]):\n",
    "    # Find the position of the error\n",
    "    error_pos = np.sum(syndrome * [1,2,4]) - 1   # ←2^0, 2^1, 2^2을 의미하며\n",
    "    print(error_pos)\n",
    "    \n",
    "    # Set the corresponding element in the error vector to 1\n",
    "    e[error_pos] = 1   # e=[0,0,0,0,0,0,0]의 틀린 비트에 1을 대체한다.\n",
    "    \n",
    "    # Correct the received codeword\n",
    "    r_corrected = (received_codeword - e) % 2   # 오류난 코드워드에 수정된 e(틀린 비트에 1을 대체한 것)에\n",
    "    print(r_corrected)                          # 뺄셈을 하여 XOR 연산을 한다.\n",
    "else:\n",
    "    # If the syndrome is zero, no error occurred\n",
    "    r_corrected = received_codeword   #오류가 발견되지 않았다면\n",
    "    print(r_corrected)"
   ]
  },
  {
   "cell_type": "code",
   "execution_count": 68,
   "id": "ee20da48",
   "metadata": {},
   "outputs": [
    {
     "name": "stdout",
     "output_type": "stream",
     "text": [
      "Received sequence: [1 0 0 0 1 1 1]\n",
      "Original message: [1. 0. 0. 1.]\n",
      "Corrected codeword: [1 0 0 1 1 1 1]\n"
     ]
    }
   ],
   "source": [
    "# Extract the original message from the corrected codeword\n",
    "m = np.dot(r_corrected[:4], np.identity(4)) % 2\n",
    "\n",
    "# Print the original message and the corrected codeword\n",
    "print(\"Received sequence:\", received_codeword)\n",
    "print(\"Original message:\", m)\n",
    "print(\"Corrected codeword:\", r_corrected)\n"
   ]
  },
  {
   "cell_type": "markdown",
   "id": "07f7e28e",
   "metadata": {},
   "source": [
    "# △△△△△여기까지가 과제△△△△△"
   ]
  },
  {
   "cell_type": "markdown",
   "id": "4346e807",
   "metadata": {},
   "source": [
    "### 3 repetition code"
   ]
  },
  {
   "cell_type": "code",
   "execution_count": null,
   "id": "6d3847cc",
   "metadata": {},
   "outputs": [],
   "source": [
    "def encode(message):\n",
    "    # Repeat each bit 3 times\n",
    "    encoded = ''.join(bit * 3 for bit in message)\n",
    "    return encoded\n",
    "\n",
    "def decode(encoded):\n",
    "    # Remove duplicates and return the most common bit\n",
    "    decoded = ''.join(max(set(encoded[i:i+3]), key=encoded[i:i+3].count) for i in range(0, len(encoded), 3))\n",
    "    return decoded"
   ]
  },
  {
   "cell_type": "code",
   "execution_count": null,
   "id": "51ac43bd",
   "metadata": {},
   "outputs": [],
   "source": [
    "message = '101010'\n",
    "encoded = encode(message)\n",
    "print(encoded)  # output: '111000111000'"
   ]
  },
  {
   "cell_type": "code",
   "execution_count": null,
   "id": "1003f3b6",
   "metadata": {},
   "outputs": [],
   "source": [
    "decoded = decode(encoded)\n",
    "print(decoded)  # output: '101010'"
   ]
  },
  {
   "cell_type": "markdown",
   "id": "b3645bba",
   "metadata": {},
   "source": [
    "### write a python code to build (7 4) block code standard array (??)"
   ]
  },
  {
   "cell_type": "code",
   "execution_count": null,
   "id": "90a7b7b5",
   "metadata": {},
   "outputs": [],
   "source": [
    "import numpy as np\n",
    "\n",
    "# Define the generator matrix\n",
    "G = np.array([[1, 0, 0, 0, 1, 1, 1],\n",
    "              [0, 1, 0, 0, 1, 0, 1],\n",
    "              [0, 0, 1, 0, 0, 1, 1],\n",
    "              [0, 0, 0, 1, 1, 1, 0]])\n",
    "\n",
    "# Define the parity-check matrix\n",
    "H = np.array([[1, 1, 0, 1, 1, 0, 0],\n",
    "              [1, 0, 1, 1, 0, 1, 0],\n",
    "              [0, 1, 1, 1, 0, 0, 1]])"
   ]
  },
  {
   "cell_type": "code",
   "execution_count": null,
   "id": "0608a512",
   "metadata": {},
   "outputs": [],
   "source": [
    "# Define the identity matrix\n",
    "I = np.eye(4)"
   ]
  },
  {
   "cell_type": "code",
   "execution_count": null,
   "id": "31c99538",
   "metadata": {},
   "outputs": [],
   "source": [
    "H.T"
   ]
  },
  {
   "cell_type": "code",
   "execution_count": null,
   "id": "73b32f70",
   "metadata": {},
   "outputs": [],
   "source": [
    "[np.zeros((3, 3)), H.T]"
   ]
  },
  {
   "cell_type": "code",
   "execution_count": null,
   "id": "445968ab",
   "metadata": {},
   "outputs": [],
   "source": [
    "np.block([np.zeros((3, 3)), H])"
   ]
  },
  {
   "cell_type": "code",
   "execution_count": null,
   "id": "7c5219f9",
   "metadata": {},
   "outputs": [],
   "source": [
    "S = [  0   H^T ]\n",
    "    [  H    0  ]\n"
   ]
  },
  {
   "cell_type": "code",
   "execution_count": null,
   "id": "6dc15e2a",
   "metadata": {},
   "outputs": [],
   "source": [
    "import numpy as np\n",
    "\n",
    "A = np.array([[1, 2], [3, 4]])\n",
    "B = np.array([[5, 6], [7, 8]])\n",
    "\n",
    "C = np.block([[A, B]])\n",
    "\n",
    "print(C)"
   ]
  },
  {
   "cell_type": "code",
   "execution_count": null,
   "id": "54060b07",
   "metadata": {},
   "outputs": [],
   "source": []
  }
 ],
 "metadata": {
  "kernelspec": {
   "display_name": "Python 3 (ipykernel)",
   "language": "python",
   "name": "python3"
  },
  "language_info": {
   "codemirror_mode": {
    "name": "ipython",
    "version": 3
   },
   "file_extension": ".py",
   "mimetype": "text/x-python",
   "name": "python",
   "nbconvert_exporter": "python",
   "pygments_lexer": "ipython3",
   "version": "3.10.9"
  }
 },
 "nbformat": 4,
 "nbformat_minor": 5
}
