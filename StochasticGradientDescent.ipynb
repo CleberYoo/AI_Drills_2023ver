{
 "cells": [
  {
   "cell_type": "code",
   "execution_count": 1,
   "id": "e7a4f554",
   "metadata": {},
   "outputs": [],
   "source": [
    "import pandas as pd\n",
    "\n",
    "fish = pd.read_csv('https://bit.ly/fish_csv')"
   ]
  },
  {
   "cell_type": "code",
   "execution_count": 2,
   "id": "16291d44",
   "metadata": {},
   "outputs": [
    {
     "name": "stdout",
     "output_type": "stream",
     "text": [
      "Index(['Species', 'Weight', 'Length', 'Diagonal', 'Height', 'Width'], dtype='object')\n"
     ]
    }
   ],
   "source": [
    "print(fish.columns)"
   ]
  },
  {
   "cell_type": "code",
   "execution_count": 4,
   "id": "75752adb",
   "metadata": {},
   "outputs": [],
   "source": [
    "fish_input = fish[['Weight', 'Length', 'Diagonal', 'Height', 'Width']].to_numpy()\n",
    "fish_target = fish['Species'].to_numpy()"
   ]
  },
  {
   "cell_type": "code",
   "execution_count": 14,
   "id": "8e0196ee",
   "metadata": {},
   "outputs": [],
   "source": [
    "from sklearn.model_selection import train_test_split\n",
    "\n",
    "train_input, test_input, train_target, test_target = train_test_split(fish_input, fish_target,\n",
    "                                                                      random_state=42)"
   ]
  },
  {
   "cell_type": "markdown",
   "id": "6f89c8f6",
   "metadata": {},
   "source": [
    "#### ↓↓↓훈련셋과 테스트셋의 특성을 표준화 전처리"
   ]
  },
  {
   "cell_type": "code",
   "execution_count": 15,
   "id": "595692a6",
   "metadata": {},
   "outputs": [],
   "source": [
    "from sklearn.preprocessing import StandardScaler\n",
    "\n",
    "ss = StandardScaler()\n",
    "ss.fit(train_input)\n",
    "\n",
    "train_scaled = ss.transform(train_input)\n",
    "test_scaled = ss.transform(test_input)"
   ]
  },
  {
   "cell_type": "code",
   "execution_count": 17,
   "id": "54d0b5fb",
   "metadata": {},
   "outputs": [
    {
     "name": "stdout",
     "output_type": "stream",
     "text": [
      "[[ 0.92   0.609  0.81   1.852  1.001]\n",
      " [ 0.3    1.547  1.453 -0.47   0.273]\n",
      " [-1.086 -1.686 -1.708 -1.702 -2.004]\n",
      " [-0.797 -0.609 -0.675 -0.825 -0.276]\n",
      " [-0.713 -0.731 -0.701 -0.08  -0.703]\n",
      " [-0.913 -0.965 -0.953 -0.88  -0.992]\n",
      " [-0.797 -0.703 -0.762 -0.783 -0.545]\n",
      " [ 0.638  0.563  0.732  1.645  0.507]\n",
      " [-0.741 -0.674 -0.736 -0.612 -0.557]\n",
      " [-0.868 -0.796 -0.892 -0.934 -1.022]\n",
      " [ 0.821  0.75   0.671  0.498  1.473]\n",
      " [ 0.3    0.235  0.428  1.36   0.223]\n",
      " [ 0.34   0.403  0.237  0.288  0.957]\n",
      " [-0.544 -0.515 -0.475  0.366 -0.478]\n",
      " [ 1.708  1.453  1.332  0.896  1.919]\n",
      " [ 0.903  0.703  0.889  1.89   0.855]\n",
      " [-1.082 -1.612 -1.622 -1.7   -1.928]\n",
      " [ 1.708  1.359  1.21   0.758  1.724]\n",
      " [-0.797 -0.721 -0.71  -0.665 -0.642]\n",
      " [ 0.103  0.047  0.237  0.884  0.418]\n",
      " [ 0.177  1.312  1.236 -0.391 -0.077]\n",
      " [ 1.497  1.031  1.219  2.443  1.403]\n",
      " [ 1.567  2.174  2.07   0.016  1.05 ]\n",
      " [-0.403 -0.093 -0.206 -0.39   0.072]\n",
      " [-0.628 -0.731 -0.701  0.132 -0.633]\n",
      " [ 0.23   0.235  0.428  1.334  0.4  ]\n",
      " [-0.699 -0.543 -0.614 -0.718 -0.499]\n",
      " [-0.263  0.825  0.741 -0.636 -0.261]\n",
      " [-0.426 -0.29  -0.11   0.656 -0.261]\n",
      " [ 0.723  0.984  0.88   0.562  0.948]\n",
      " [-0.769 -0.89  -0.866 -0.116 -0.933]\n",
      " [-0.699 -0.609 -0.605 -0.55  -0.549]\n",
      " [-0.755 -0.703 -0.762 -0.783 -0.476]\n",
      " [ 1.286  0.703  0.897  1.982  1.067]\n",
      " [-1.107 -0.749 -0.736 -0.59  -0.669]\n",
      " [ 1.257  0.609  0.524  0.648  2.041]\n",
      " [ 0.934  0.609  0.836  1.852  0.978]\n",
      " [ 0.807  0.609  0.81   1.631  1.026]\n",
      " [ 0.835  0.797  0.697  0.422  1.169]\n",
      " [-0.882 -0.89  -0.962 -0.797 -0.852]\n",
      " [-0.769 -0.796 -0.788 -0.654 -0.533]\n",
      " [ 3.397  2.952  2.843  0.182  1.034]\n",
      " [-0.361 -0.093 -0.206 -0.447 -0.069]\n",
      " [-1.073 -1.527 -1.552 -1.672 -1.862]\n",
      " [-0.136  0.937  0.845 -0.609 -0.287]\n",
      " [-0.657 -0.562 -0.545 -0.608 -0.395]\n",
      " [ 1.286  1.078  0.958  0.757  1.62 ]\n",
      " [-0.952 -1.293 -1.283 -0.498 -1.293]\n",
      " [-1.017 -1.387 -1.439 -1.317 -1.493]\n",
      " [ 1.637  1.172  1.271  2.413  1.401]\n",
      " [-0.206  0.141  0.029 -0.308  0.197]\n",
      " [-1.08  -1.64  -1.674 -1.646 -1.87 ]\n",
      " [ 1.989  1.265  1.158  0.972  1.475]\n",
      " [-0.938 -1.218 -1.205 -0.564 -1.301]\n",
      " [-1.052 -1.33  -1.396 -1.479 -1.451]\n",
      " [-0.699 -0.421 -0.501 -0.614 -0.38 ]\n",
      " [-0.552 -0.271 -0.371 -0.568 -0.128]\n",
      " [-0.341 -0.14  -0.058 -0.073  0.198]\n",
      " [ 0.16   0.113  0.298  1.171  0.292]\n",
      " [ 0.863  0.797  0.706  0.487  1.107]\n",
      " [ 1.201  1.078  0.975  0.561  1.33 ]\n",
      " [-0.654 -0.478 -0.397 -0.481 -0.498]\n",
      " [-0.994 -1.349 -1.309 -1.164 -1.329]\n",
      " [-0.868 -0.834 -0.909 -0.92  -0.86 ]\n",
      " [-0.825 -0.984 -1.048 -0.899 -0.687]\n",
      " [ 1.567  1.172  1.323  2.164  1.172]\n",
      " [-0.713 -0.562 -0.545 -0.571 -0.685]\n",
      " [-0.009  0.141  0.324  0.94   0.147]\n",
      " [-0.685 -0.609 -0.571 -0.755 -0.423]\n",
      " [-0.339 -0.328 -0.284  0.55  -0.185]\n",
      " [ 1.426  1.078  0.975  0.708  1.693]\n",
      " [ 0.458  0.563  0.454  0.344  1.182]\n",
      " [-0.741 -0.562 -0.631 -0.742 -0.502]\n",
      " [-0.783 -0.703 -0.762 -0.727 -0.695]\n",
      " [ 3.256  2.952  2.843  0.182  1.034]\n",
      " [ 3.537  3.271  3.19   0.481  1.848]\n",
      " [-0.727 -0.609 -0.675 -0.738 -0.563]\n",
      " [ 0.16   0.141  0.333  1.27   0.241]\n",
      " [ 0.863  0.703  0.611  0.431  1.397]\n",
      " [-0.15   0.328  0.524  1.247  0.381]\n",
      " [ 1.145  0.741  0.724  0.716  1.296]\n",
      " [ 0.413  1.359  1.262 -0.266  0.415]\n",
      " [-0.085  0.047  0.194  0.955  0.004]\n",
      " [ 0.863  0.422  0.628  1.5    0.457]\n",
      " [-0.862 -0.815 -0.788 -0.802 -0.776]\n",
      " [-1.09  -1.883 -1.952 -1.667 -1.853]\n",
      " [ 1.06   1.828  1.731 -0.292  0.566]\n",
      " [ 0.3    0.113  0.281  1.313  0.506]\n",
      " [ 0.103  0.891  0.802 -0.388  0.078]\n",
      " [-0.854 -1.012 -0.996 -0.36  -1.082]\n",
      " [-0.009  0.3    0.324  0.154  0.553]\n",
      " [-0.263  0.019 -0.102 -0.315  0.114]\n",
      " [-0.544 -0.468 -0.388 -0.362 -0.196]\n",
      " [-1.073 -1.452 -1.517 -1.626 -1.946]\n",
      " [ 0.413  0.235  0.237  0.465  1.288]\n",
      " [-0.631 -0.421 -0.353 -0.328 -0.374]\n",
      " [-0.741 -0.609 -0.675 -0.68  -0.563]\n",
      " [ 0.821  0.516  0.689  1.761  0.562]\n",
      " [-0.246 -0.047 -0.041 -0.021  0.142]\n",
      " [-1.079 -1.546 -1.57  -1.644 -2.012]\n",
      " [-0.263  0.516  0.567 -0.779 -0.177]\n",
      " [-0.887 -0.909 -0.875 -0.812 -0.941]\n",
      " [-1.079 -1.621 -1.639 -1.674 -1.933]\n",
      " [-0.291 -0.206 -0.006  0.893 -0.087]\n",
      " [-0.291 -0.234 -0.18   0.004  0.03 ]\n",
      " [-0.263  0.609  0.654 -0.723 -0.039]\n",
      " [-0.375 -0.093 -0.206 -0.419 -0.069]\n",
      " [-0.6   -0.328 -0.414 -0.598 -0.466]\n",
      " [ 1.426  0.984  0.88   0.562  1.856]\n",
      " [-0.769 -0.609 -0.675 -0.796 -0.563]\n",
      " [-0.994 -1.265 -1.326 -1.244 -1.229]\n",
      " [ 1.75   1.078  0.967  0.869  1.837]\n",
      " [-1.051 -1.265 -1.309 -1.464 -1.566]\n",
      " [ 0.512  0.516  0.715  1.547  0.683]\n",
      " [-0.263 -0.234 -0.197  0.619 -0.131]\n",
      " [-0.403 -0.047 -0.162 -0.257 -0.149]\n",
      " [ 0.582  0.328  0.515  1.504  0.44 ]\n",
      " [-0.685 -0.562 -0.631 -0.511 -0.502]\n",
      " [-0.263 -0.112 -0.223 -0.133  0.42 ]]\n"
     ]
    }
   ],
   "source": [
    "print(np.round(train_scaled, decimals=3))"
   ]
  },
  {
   "cell_type": "code",
   "execution_count": 22,
   "id": "6b11d5b1",
   "metadata": {},
   "outputs": [
    {
     "name": "stdout",
     "output_type": "stream",
     "text": [
      "0.773109243697479\n",
      "0.775\n"
     ]
    },
    {
     "name": "stderr",
     "output_type": "stream",
     "text": [
      "C:\\Users\\cbnul\\anaconda3\\lib\\site-packages\\sklearn\\linear_model\\_stochastic_gradient.py:696: ConvergenceWarning: Maximum number of iteration reached before convergence. Consider increasing max_iter to improve the fit.\n",
      "  warnings.warn(\n"
     ]
    }
   ],
   "source": [
    "from sklearn.linear_model import SGDClassifier\n",
    "\n",
    "sc = SGDClassifier(loss='log', max_iter=10, random_state=42)\n",
    "   # loss = 손실함수 / log = 로지스틱 / max_iter = epoch 수 = 반복 수\n",
    "sc.fit(train_scaled, train_target)\n",
    "\n",
    "print(sc.score(train_scaled, train_target))\n",
    "print(sc.score(test_scaled, test_target))\n"
   ]
  },
  {
   "cell_type": "code",
   "execution_count": 23,
   "id": "c880aa71",
   "metadata": {},
   "outputs": [
    {
     "name": "stdout",
     "output_type": "stream",
     "text": [
      "0.8151260504201681\n",
      "0.85\n"
     ]
    }
   ],
   "source": [
    "sc.partial_fit(train_scaled, train_target)\n",
    "   # 모델을 이어서 훈련할 때 사용하는 함수, 호출할 때마다 1에포크씩 이어서 훈련\n",
    "print(sc.score(train_scaled, train_target))\n",
    "print(sc.score(test_scaled, test_target))"
   ]
  },
  {
   "cell_type": "markdown",
   "id": "6c8da362",
   "metadata": {},
   "source": [
    "### 에포크의 과대 / 과소 적합\n",
    "# \n",
    "##### * 과대적합이란?\n",
    "##### 훈련셋에 너무 많이 훈련되어 훈련셋에 잘 맞아 테스트셋에는 오히려 점수가 나쁘게 나올 수 있는 모델"
   ]
  },
  {
   "cell_type": "code",
   "execution_count": 24,
   "id": "1d057d1b",
   "metadata": {},
   "outputs": [],
   "source": [
    "import numpy as np\n",
    "sc = SGDClassifier(loss='log', random_state=42)\n",
    "train_score = []\n",
    "test_score = []\n",
    "classes = np.unique(train_target)"
   ]
  },
  {
   "cell_type": "code",
   "execution_count": 26,
   "id": "d91ef367",
   "metadata": {},
   "outputs": [],
   "source": [
    "for _ in range(0, 300):   # 300번 에포크 반복\n",
    "    sc.partial_fit(train_scaled, train_target, classes=classes)   # 이어서 반복훈련\n",
    "    train_score.append(sc.score(train_scaled, train_target))\n",
    "       # train_score에 train 정확도 삽입\n",
    "    test_score.append(sc.score(test_scaled, test_target))\n",
    "       # test_score에 test 정확도 삽입"
   ]
  },
  {
   "cell_type": "markdown",
   "id": "d119bf93",
   "metadata": {},
   "source": [
    "#### ↓↓↓ train_score와 test_score 시각화 해보기"
   ]
  },
  {
   "cell_type": "code",
   "execution_count": 31,
   "id": "d92f845f",
   "metadata": {},
   "outputs": [
    {
     "data": {
      "image/png": "[encoded data removed]",
      "text/plain": [
       "<Figure size 640x480 with 1 Axes>"
      ]
     },
     "metadata": {},
     "output_type": "display_data"
    }
   ],
   "source": [
    "import matplotlib.pyplot as plt\n",
    "\n",
    "plt.plot(train_score)\n",
    "plt.plot(test_score)\n",
    "\n",
    "plt.xlabel('epoch')\n",
    "plt.ylabel('accuracy')\n",
    "plt.show()\n",
    "\n",
    "# epoch 70~ 100이 적합해 보인다."
   ]
  },
  {
   "cell_type": "markdown",
   "id": "6c119e6f",
   "metadata": {},
   "source": [
    "#### 그렇다면 epoch 100으로 모델을 다시 훈련해보자"
   ]
  },
  {
   "cell_type": "code",
   "execution_count": 32,
   "id": "ff7bb904",
   "metadata": {},
   "outputs": [
    {
     "name": "stdout",
     "output_type": "stream",
     "text": [
      "0.957983193277311\n",
      "0.925\n"
     ]
    }
   ],
   "source": [
    "sc = SGDClassifier(loss='log', max_iter=100, tol=None, random_state=42)\n",
    "    # tol : 성능이 향상되지 않으면 자동으로 훈련을 멈춘다. None값을 주면 100회를 무조건 반복하겠다는 뜻이다.\n",
    "sc.fit(train_scaled, train_target)\n",
    "\n",
    "print(sc.score(train_scaled, train_target))\n",
    "print(sc.score(test_scaled, test_target))"
   ]
  }
 ],
 "metadata": {
  "kernelspec": {
   "display_name": "Python 3 (ipykernel)",
   "language": "python",
   "name": "python3"
  },
  "language_info": {
   "codemirror_mode": {
    "name": "ipython",
    "version": 3
   },
   "file_extension": ".py",
   "mimetype": "text/x-python",
   "name": "python",
   "nbconvert_exporter": "python",
   "pygments_lexer": "ipython3",
   "version": "3.9.13"
  }
 },
 "nbformat": 4,
 "nbformat_minor": 5
}
