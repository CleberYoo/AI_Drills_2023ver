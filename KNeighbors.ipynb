{
 "cells": [
  {
   "cell_type": "markdown",
   "id": "3974615e",
   "metadata": {},
   "source": [
    "# SHORT CUT\n",
    "##### ctrl + enter : 현재 셸만 실행\n",
    "##### shift + enter : 현재 셸 실행 후 아래에 새로운 셸 생성\n",
    "##### esc : 명령어 모드로 진입\n",
    "##### a : 현재 셸 위에 새로운 셸 생성\n",
    "##### b : 현재 셸 아래에 새로운 셸 생성\n",
    "##### m : 마크다운 모드\n",
    "##### x : 현재 셸 삭제\n",
    "##### dd : 현재 셸 삭제\n",
    "##### j : 아래로 이동\n",
    "##### k : 위로 이동\n",
    "##### l : 줄번호 새기기"
   ]
  },
  {
   "cell_type": "code",
   "execution_count": 2,
   "id": "0a64b1b1",
   "metadata": {},
   "outputs": [],
   "source": [
    "fish_length = [25.4, 26.3, 26.5, 29.0, 29.0, 29.7, 29.7, 30.0, 30.0, 30.7, 31.0, 31.0, \n",
    "                31.5, 32.0, 32.0, 32.0, 33.0, 33.0, 33.5, 33.5, 34.0, 34.0, 34.5, 35.0, \n",
    "                35.0, 35.0, 35.0, 36.0, 36.0, 37.0, 38.5, 38.5, 39.5, 41.0, 41.0, 9.8, \n",
    "                10.5, 10.6, 11.0, 11.2, 11.3, 11.8, 11.8, 12.0, 12.2, 12.4, 13.0, 14.3, 15.0]\n",
    "fish_weight = [242.0, 290.0, 340.0, 363.0, 430.0, 450.0, 500.0, 390.0, 450.0, 500.0, 475.0, 500.0, \n",
    "                500.0, 340.0, 600.0, 600.0, 700.0, 700.0, 610.0, 650.0, 575.0, 685.0, 620.0, 680.0, \n",
    "                700.0, 725.0, 720.0, 714.0, 850.0, 1000.0, 920.0, 955.0, 925.0, 975.0, 950.0, 6.7, \n",
    "                7.5, 7.0, 9.7, 9.8, 8.7, 10.0, 9.9, 9.8, 12.2, 13.4, 12.2, 19.7, 19.9]"
   ]
  },
  {
   "cell_type": "code",
   "execution_count": 3,
   "id": "ff5ee09c",
   "metadata": {},
   "outputs": [],
   "source": [
    "fish_data = [[l,w] for l,w in zip(fish_length, fish_weight)]   #for 앞의 l,w와 뒤의 l,w는 같은 변수이다\n",
    "fish_target = [\"도미\"] * 35 + [\"빙어\"] * 14"
   ]
  },
  {
   "cell_type": "markdown",
   "id": "ceeb2cf0",
   "metadata": {},
   "source": [
    "#### zip()메소드는 나열된 리스트에서 원소를 하나씩 꺼내주는 메소드이다."
   ]
  },
  {
   "cell_type": "code",
   "execution_count": 4,
   "id": "1ee49321",
   "metadata": {},
   "outputs": [],
   "source": [
    "from sklearn.neighbors import KNeighborsClassifier   #k-최접근 이웃 모델\n",
    "kn = KNeighborsClassifier()   #KNeighborsClassifier() 객체 생성"
   ]
  },
  {
   "cell_type": "markdown",
   "id": "550900af",
   "metadata": {},
   "source": [
    "##### from 패키지 import 클래스 >>> 패키지 내의 특정 클래스만 사용한다는 뜻"
   ]
  },
  {
   "cell_type": "code",
   "execution_count": 10,
   "id": "25cae22c",
   "metadata": {},
   "outputs": [],
   "source": [
    "train_input = fish_data[:35]\n",
    "train_target = fish_data[:35]\n",
    "test_input = fish_data[35:]\n",
    "test_target = fish_data[35:]"
   ]
  },
  {
   "cell_type": "code",
   "execution_count": 11,
   "id": "4d3645b2",
   "metadata": {},
   "outputs": [],
   "source": [
    "import numpy as np   #대표적인 배열 라이브러리"
   ]
  },
  {
   "cell_type": "code",
   "execution_count": 27,
   "id": "5e961d15",
   "metadata": {},
   "outputs": [],
   "source": [
    "input_arr = np.array(fish_data)\n",
    "target_arr = np.array(fish_target)"
   ]
  },
  {
   "cell_type": "code",
   "execution_count": 28,
   "id": "2e1af0b1",
   "metadata": {},
   "outputs": [
    {
     "name": "stdout",
     "output_type": "stream",
     "text": [
      "[[  25.4  242. ]\n",
      " [  26.3  290. ]\n",
      " [  26.5  340. ]\n",
      " [  29.   363. ]\n",
      " [  29.   430. ]\n",
      " [  29.7  450. ]\n",
      " [  29.7  500. ]\n",
      " [  30.   390. ]\n",
      " [  30.   450. ]\n",
      " [  30.7  500. ]\n",
      " [  31.   475. ]\n",
      " [  31.   500. ]\n",
      " [  31.5  500. ]\n",
      " [  32.   340. ]\n",
      " [  32.   600. ]\n",
      " [  32.   600. ]\n",
      " [  33.   700. ]\n",
      " [  33.   700. ]\n",
      " [  33.5  610. ]\n",
      " [  33.5  650. ]\n",
      " [  34.   575. ]\n",
      " [  34.   685. ]\n",
      " [  34.5  620. ]\n",
      " [  35.   680. ]\n",
      " [  35.   700. ]\n",
      " [  35.   725. ]\n",
      " [  35.   720. ]\n",
      " [  36.   714. ]\n",
      " [  36.   850. ]\n",
      " [  37.  1000. ]\n",
      " [  38.5  920. ]\n",
      " [  38.5  955. ]\n",
      " [  39.5  925. ]\n",
      " [  41.   975. ]\n",
      " [  41.   950. ]\n",
      " [   9.8    6.7]\n",
      " [  10.5    7.5]\n",
      " [  10.6    7. ]\n",
      " [  11.     9.7]\n",
      " [  11.2    9.8]\n",
      " [  11.3    8.7]\n",
      " [  11.8   10. ]\n",
      " [  11.8    9.9]\n",
      " [  12.     9.8]\n",
      " [  12.2   12.2]\n",
      " [  12.4   13.4]\n",
      " [  13.    12.2]\n",
      " [  14.3   19.7]\n",
      " [  15.    19.9]]\n",
      "(49, 2)\n"
     ]
    }
   ],
   "source": [
    "print(input_arr)\n",
    "print(input_arr.shape)   #shape : 배열의 크기를 알려줌, 결과값 : (샘플 수(행), 특성 수(열))"
   ]
  },
  {
   "cell_type": "code",
   "execution_count": 29,
   "id": "dbeaa2ae",
   "metadata": {},
   "outputs": [],
   "source": [
    "np.random.seed(42)\n",
    "index = np.arange(49)   #arange(N) : 0에서 N-1까지 1씩 증가하는 배열을 생성\n",
    "np.random.shuffle(index)   #np(라이브러리).random(패키지).shuffle(메소드) : 배열을 무작위로 섞는다"
   ]
  },
  {
   "cell_type": "code",
   "execution_count": 30,
   "id": "96ad5531",
   "metadata": {},
   "outputs": [
    {
     "name": "stdout",
     "output_type": "stream",
     "text": [
      "[13 45 47 44 17 27 26 25 31 19 12  4 34  8  3  6 40 41 46 15  9 16 24 33\n",
      " 30  0 43 32  5 29 11 36  1 21  2 37 35 23 39 10 22 18 48 20  7 42 14 28\n",
      " 38]\n"
     ]
    }
   ],
   "source": [
    "print(index)   #잘 섞였나 확인"
   ]
  },
  {
   "cell_type": "code",
   "execution_count": 31,
   "id": "c2cd3873",
   "metadata": {},
   "outputs": [],
   "source": [
    "train_input = input_arr[index[:35]]   #0~34까지를 train\n",
    "train_target = target_arr[index[:35]]"
   ]
  },
  {
   "cell_type": "code",
   "execution_count": 32,
   "id": "2000860b",
   "metadata": {},
   "outputs": [],
   "source": [
    "test_input = input_arr[index[35:]]   #35~48까지를 test\n",
    "test_target = target_arr[index[35:]]"
   ]
  },
  {
   "cell_type": "code",
   "execution_count": 33,
   "id": "c1251047",
   "metadata": {},
   "outputs": [
    {
     "data": {
      "image/png": "[encoded data removed]",
      "text/plain": [
       "<Figure size 640x480 with 1 Axes>"
      ]
     },
     "metadata": {},
     "output_type": "display_data"
    }
   ],
   "source": [
    "import matplotlib.pyplot as plt\n",
    "plt.scatter(train_input[:, 0], train_input[:, 1])   #train\n",
    "plt.scatter(test_input[:, 0], test_input[:, 1])   #test\n",
    "plt.xlabel(\"LENGTH\")\n",
    "plt.ylabel(\"WEIGHT\")\n",
    "plt.show()"
   ]
  },
  {
   "cell_type": "code",
   "execution_count": 35,
   "id": "6a81262c",
   "metadata": {},
   "outputs": [],
   "source": [
    "kn = kn.fit(train_input, train_target)   #모델 훈련"
   ]
  },
  {
   "cell_type": "code",
   "execution_count": 36,
   "id": "254e06b1",
   "metadata": {},
   "outputs": [
    {
     "name": "stderr",
     "output_type": "stream",
     "text": [
      "C:\\Users\\cbnul\\anaconda3\\lib\\site-packages\\sklearn\\neighbors\\_classification.py:228: FutureWarning: Unlike other reduction functions (e.g. `skew`, `kurtosis`), the default behavior of `mode` typically preserves the axis it acts along. In SciPy 1.11.0, this behavior will change: the default value of `keepdims` will become False, the `axis` over which the statistic is taken will be eliminated, and the value None will no longer be accepted. Set `keepdims` to True or False to avoid this warning.\n",
      "  mode, _ = stats.mode(_y[neigh_ind, k], axis=1)\n"
     ]
    },
    {
     "data": {
      "text/plain": [
       "1.0"
      ]
     },
     "execution_count": 36,
     "metadata": {},
     "output_type": "execute_result"
    }
   ],
   "source": [
    "kn.score(test_input, test_target)"
   ]
  },
  {
   "cell_type": "code",
   "execution_count": 39,
   "id": "e6ce418a",
   "metadata": {},
   "outputs": [
    {
     "name": "stderr",
     "output_type": "stream",
     "text": [
      "C:\\Users\\cbnul\\anaconda3\\lib\\site-packages\\sklearn\\neighbors\\_classification.py:228: FutureWarning: Unlike other reduction functions (e.g. `skew`, `kurtosis`), the default behavior of `mode` typically preserves the axis it acts along. In SciPy 1.11.0, this behavior will change: the default value of `keepdims` will become False, the `axis` over which the statistic is taken will be eliminated, and the value None will no longer be accepted. Set `keepdims` to True or False to avoid this warning.\n",
      "  mode, _ = stats.mode(_y[neigh_ind, k], axis=1)\n"
     ]
    },
    {
     "data": {
      "text/plain": [
       "array(['빙어', '빙어', '도미', '빙어', '도미', '도미', '도미', '빙어', '도미', '도미', '빙어',\n",
       "       '도미', '도미', '빙어'], dtype='<U2')"
      ]
     },
     "execution_count": 39,
     "metadata": {},
     "output_type": "execute_result"
    }
   ],
   "source": [
    "kn.predict(test_input)   #테스트셋의 예측 결과"
   ]
  },
  {
   "cell_type": "code",
   "execution_count": 40,
   "id": "3b3d6933",
   "metadata": {},
   "outputs": [
    {
     "data": {
      "text/plain": [
       "array(['빙어', '빙어', '도미', '빙어', '도미', '도미', '도미', '빙어', '도미', '도미', '빙어',\n",
       "       '도미', '도미', '빙어'], dtype='<U2')"
      ]
     },
     "execution_count": 40,
     "metadata": {},
     "output_type": "execute_result"
    }
   ],
   "source": [
    "test_target   #실제 타겟"
   ]
  },
  {
   "cell_type": "markdown",
   "id": "9c612dcb",
   "metadata": {},
   "source": [
    "#### kn.predict(test_input) 과 test_target 이 동일하다. accuracy = 1.0 (100%)"
   ]
  },
  {
   "cell_type": "code",
   "execution_count": null,
   "id": "faf8ca3b",
   "metadata": {},
   "outputs": [],
   "source": []
  }
 ],
 "metadata": {
  "kernelspec": {
   "display_name": "Python 3 (ipykernel)",
   "language": "python",
   "name": "python3"
  },
  "language_info": {
   "codemirror_mode": {
    "name": "ipython",
    "version": 3
   },
   "file_extension": ".py",
   "mimetype": "text/x-python",
   "name": "python",
   "nbconvert_exporter": "python",
   "pygments_lexer": "ipython3",
   "version": "3.9.13"
  }
 },
 "nbformat": 4,
 "nbformat_minor": 5
}
