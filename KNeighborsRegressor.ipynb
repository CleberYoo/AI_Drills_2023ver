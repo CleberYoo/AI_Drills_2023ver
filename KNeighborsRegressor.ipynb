{
 "cells": [
  {
   "cell_type": "markdown",
   "id": "d4da7631",
   "metadata": {},
   "source": [
    "##### 분류란 샘플을 몇개의 클래스 중 하나로 분류하는 문제이다 (discrete)\n",
    "##### 회귀(regression)는 클래스 중 하나로 분류하는 것이 아니라 임의의 어떤 숫자를 예측하는 문제이다. (linear)"
   ]
  },
  {
   "cell_type": "markdown",
   "id": "76e6975a",
   "metadata": {},
   "source": [
    "# K-최근접 이웃에서 'K'는 클래스의 개수를 의미?함"
   ]
  },
  {
   "cell_type": "code",
   "execution_count": 2,
   "id": "c4610577",
   "metadata": {},
   "outputs": [],
   "source": [
    "import numpy as np"
   ]
  },
  {
   "cell_type": "code",
   "execution_count": 3,
   "id": "474819f8",
   "metadata": {},
   "outputs": [],
   "source": [
    "perch_length = np.array([8.4, 13.7, 15.0, 16.2, 17.4, 18.0, 18.7, 19.0, 19.6, 20.0, 21.0, 21.0, 21.0,\n",
    "                         21.3, 22.0, 22.0, 22.0, 22.0, 22.0, 22.5, 22.5, 22.7, 3.0, 23.5, 24.0, 24.0,\n",
    "                         24.6, 25.0, 25.6, 26.5, 27.3, 27.5, 27.5, 27.5, 28.0, 28.7, 30.0, 32.8, 34.5,\n",
    "                         35.0, 36.5, 36.0, 37.0, 37.0, 39.0, 39.0, 39.0, 40.0, 40.0, 40.0, 40.0, 42.0,\n",
    "                         43.0, 43.0, 43.5, 44.0])\n",
    "perch_weight = np.array([5.9, 32.0, 40.0, 51.5, 70.0, 100.0, 78.0, 80.0, 85.0, 85.0, 110.0, 115.0, 125.0,\n",
    "                         130.0, 120.0, 120.0, 130.0, 135.0, 110.0, 130.0, 150.0, 145.0, 150.0, 170.0, 225.0,\n",
    "                         145.0, 188.0, 180.0, 197.0, 218.0, 300.0, 260.0, 265.0, 250.0, 250.0, 300.0, 320.0,\n",
    "                         514.0, 556.0, 840.0, 685.0, 700.0, 700.0, 690.0, 900.0, 650.0, 820.0, 850.0, 900.0,\n",
    "                         1015.0, 820.0, 1100.0, 1000.0, 1100.0, 1000.0, 1000.0])"
   ]
  },
  {
   "cell_type": "code",
   "execution_count": 6,
   "id": "cf863228",
   "metadata": {},
   "outputs": [
    {
     "data": {
      "image/png": "[encoded data removed]",
      "text/plain": [
       "<Figure size 640x480 with 1 Axes>"
      ]
     },
     "metadata": {},
     "output_type": "display_data"
    }
   ],
   "source": [
    "import matplotlib.pyplot as plt\n",
    "plt.scatter(perch_length, perch_weight)\n",
    "plt.xlabel(\"LENGTH\")\n",
    "plt.ylabel(\"WEIGHT\")\n",
    "plt.show()\n"
   ]
  },
  {
   "cell_type": "code",
   "execution_count": 148,
   "id": "ee584a4d",
   "metadata": {},
   "outputs": [
    {
     "name": "stdout",
     "output_type": "stream",
     "text": [
      "[ 8.4 18.  27.5 21.3 22.5 40.  30.  24.6 39.  21.  43.5 16.2]\n"
     ]
    }
   ],
   "source": [
    "from sklearn.model_selection import train_test_split\n",
    "train_input, test_input, train_target, test_target = train_test_split(perch_length, perch_weight,\n",
    "                                    random_state=42, test_size=0.2)\n",
    "print(test_input)"
   ]
  },
  {
   "cell_type": "markdown",
   "id": "1966f2b3",
   "metadata": {},
   "source": [
    "# NOTICE\n",
    "##### 1. 'random_state='에 아무 값을 넣어도 셔플되어서 나오는 결괏값은 달라지지 않는다.\n",
    "##### 2. 'random_state='를 빼고 'shuffle=True'를 넣으면 매번 결괏값이 달라진다.\n",
    "##### 3. random_state='와 'shuffle=True'를  동시에 사용하면 결괏값은 한번섞인 그대로 고정되어 나온다.\n",
    "##### 4. 'random_state='가 우선순위가 높나보다? 그리고 이 파라미터의 순서를 바꿔서 해도 달라지지 않는다.\n",
    "##### 5. 'test_size='는 train_size : test_size의 디폴트 값은 0.75 : 0.25인데 'test_size=' or 'train_size=' 파라미터를 이용하여 임의로 비율을 바꿀 수 있다."
   ]
  },
  {
   "cell_type": "code",
   "execution_count": 154,
   "id": "d25345be",
   "metadata": {},
   "outputs": [
    {
     "name": "stdout",
     "output_type": "stream",
     "text": [
      "[1 2 3 4 5 6]\n"
     ]
    }
   ],
   "source": [
    "test_array = np.array([1,2,3,4,5,6])\n",
    "print(test_array)"
   ]
  },
  {
   "cell_type": "code",
   "execution_count": 155,
   "id": "9f5382e8",
   "metadata": {},
   "outputs": [
    {
     "name": "stdout",
     "output_type": "stream",
     "text": [
      "[[1 2 3]\n",
      " [4 5 6]]\n"
     ]
    }
   ],
   "source": [
    "test_array = test_array.reshape(2,3)\n",
    "print(test_array)"
   ]
  },
  {
   "cell_type": "code",
   "execution_count": 156,
   "id": "6822c769",
   "metadata": {},
   "outputs": [
    {
     "name": "stdout",
     "output_type": "stream",
     "text": [
      "(2, 3)\n"
     ]
    }
   ],
   "source": [
    "print(test_array.shape)"
   ]
  },
  {
   "cell_type": "code",
   "execution_count": 166,
   "id": "348ffda7",
   "metadata": {},
   "outputs": [
    {
     "name": "stdout",
     "output_type": "stream",
     "text": [
      "[1 2 3 4 5 6]\n",
      "(6,)\n"
     ]
    }
   ],
   "source": [
    "test_array1 = np.array([[1,2,3], [4,5,6]])\n",
    "test_array1 = test_array1.reshape(6,)\n",
    "print(test_array1)\n",
    "print(test_array1.shape)"
   ]
  },
  {
   "cell_type": "markdown",
   "id": "c8d599fa",
   "metadata": {},
   "source": [
    "##### reshape() 메소드는 n차원 배열을 m차원 배열로 바꾸는데 사용한다. (n,m > 0)\n",
    "##### <주의> reshape() 메소드 사용 시, n차원 배열의 총 원소 개수와 m차원 배열의 총 원소 개수가 같아야 한다."
   ]
  },
  {
   "cell_type": "code",
   "execution_count": 167,
   "id": "d7b9d852",
   "metadata": {},
   "outputs": [
    {
     "name": "stdout",
     "output_type": "stream",
     "text": [
      "(44, 1) (12, 1)\n"
     ]
    }
   ],
   "source": [
    "train_input = train_input.reshape(-1,1)\n",
    "test_input = test_input.reshape(-1,1)\n",
    "print(train_input.shape, test_input.shape)"
   ]
  },
  {
   "cell_type": "markdown",
   "id": "2e352dda",
   "metadata": {},
   "source": [
    "##### 1행과 2행의 reshape()메소드 안에 -1 값은 배열은 음수로 세는 법을 생각해보면 이해가 쉬울 것이다."
   ]
  },
  {
   "cell_type": "code",
   "execution_count": 168,
   "id": "1022b8c3",
   "metadata": {},
   "outputs": [
    {
     "data": {
      "text/plain": [
       "0.9920387500619013"
      ]
     },
     "execution_count": 168,
     "metadata": {},
     "output_type": "execute_result"
    }
   ],
   "source": [
    "from sklearn.neighbors import KNeighborsRegressor\n",
    "\n",
    "knr = KNeighborsRegressor()\n",
    "\n",
    "knr.fit(train_input, train_target)\n",
    "\n",
    "knr.score(test_input, test_target)"
   ]
  },
  {
   "cell_type": "code",
   "execution_count": 169,
   "id": "a085f0cf",
   "metadata": {},
   "outputs": [
    {
     "name": "stdout",
     "output_type": "stream",
     "text": [
      "22.600000000000005\n"
     ]
    }
   ],
   "source": [
    "from sklearn.metrics import mean_absolute_error\n",
    "\n",
    "test_prediction = knr.predict(test_input)\n",
    "\n",
    "mae = mean_absolute_error(test_target, test_prediction)\n",
    "print(mae)"
   ]
  },
  {
   "cell_type": "code",
   "execution_count": 170,
   "id": "5584f333",
   "metadata": {},
   "outputs": [
    {
     "data": {
      "text/plain": [
       "0.9688582516308265"
      ]
     },
     "execution_count": 170,
     "metadata": {},
     "output_type": "execute_result"
    }
   ],
   "source": [
    "knr.score(train_input, train_target)"
   ]
  },
  {
   "cell_type": "code",
   "execution_count": 171,
   "id": "d4f271e4",
   "metadata": {},
   "outputs": [
    {
     "name": "stdout",
     "output_type": "stream",
     "text": [
      "0.9792750887594779\n"
     ]
    }
   ],
   "source": [
    "knr.n_neighbors = 3\n",
    "\n",
    "knr.fit(train_input, train_target)\n",
    "print(knr.score(train_input, train_target))"
   ]
  },
  {
   "cell_type": "markdown",
   "id": "de0579a9",
   "metadata": {},
   "source": [
    "##### 이웃의 개수는 default로 5개이다"
   ]
  },
  {
   "cell_type": "code",
   "execution_count": 172,
   "id": "4b27ed9e",
   "metadata": {},
   "outputs": [
    {
     "name": "stdout",
     "output_type": "stream",
     "text": [
      "0.9740450444162954\n"
     ]
    }
   ],
   "source": [
    "print(knr.score(test_input, test_target))"
   ]
  }
 ],
 "metadata": {
  "kernelspec": {
   "display_name": "Python 3 (ipykernel)",
   "language": "python",
   "name": "python3"
  },
  "language_info": {
   "codemirror_mode": {
    "name": "ipython",
    "version": 3
   },
   "file_extension": ".py",
   "mimetype": "text/x-python",
   "name": "python",
   "nbconvert_exporter": "python",
   "pygments_lexer": "ipython3",
   "version": "3.9.13"
  }
 },
 "nbformat": 4,
 "nbformat_minor": 5
}
